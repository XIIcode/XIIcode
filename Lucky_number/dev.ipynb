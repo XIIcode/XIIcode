{
 "cells": [
  {
   "cell_type": "markdown",
   "metadata": {},
   "source": [
    "    #Banner of the game."
   ]
  },
  {
   "cell_type": "code",
   "execution_count": null,
   "metadata": {},
   "outputs": [],
   "source": [
    "banner = '''\n",
    "  _     _    _  _____ _  ____     __  _   _ _    _ __  __ ____  ______ _____  \n",
    " | |   | |  | |/ ____| |/ /\\ \\   / / | \\ | | |  | |  \\/  |  _ \\|  ____|  __ \\ \n",
    " | |   | |  | | |    | ' /  \\ \\_/ /  |  \\| | |  | | \\  / | |_) | |__  | |__) |\n",
    " | |   | |  | | |    |  <    \\   /   | . ` | |  | | |\\/| |  _ <|  __| |  _  / \n",
    " | |___| |__| | |____| . \\    | |    | |\\  | |__| | |  | | |_) | |____| | \\ \\ \n",
    " |______\\____/ \\_____|_|\\_\\   |_|    |_| \\_|\\____/|_|  |_|____/|______|_|  \\_\\\n",
    "'''\n",
    "print(banner)"
   ]
  },
  {
   "cell_type": "markdown",
   "metadata": {},
   "source": [
    "    #Welcome statements"
   ]
  },
  {
   "cell_type": "code",
   "execution_count": 1,
   "metadata": {},
   "outputs": [
    {
     "name": "stdout",
     "output_type": "stream",
     "text": [
      "90-65\n",
      "78\n"
     ]
    }
   ],
   "source": [
    "user_range = input(\"Choose  a range of numbers e.g 0-75 and max=100\")\n",
    "user_selection = input(\"Guess which number has been randomly selected\")\n",
    "print(user_range)\n",
    "print(user_selection)"
   ]
  },
  {
   "cell_type": "markdown",
   "metadata": {},
   "source": [
    "    Verification of input to avoid app crashing"
   ]
  },
  {
   "cell_type": "code",
   "execution_count": null,
   "metadata": {},
   "outputs": [],
   "source": [
    "def get_input():\n",
    "    user_range = str(input(\"Choose  a range of numbers e.g 0-75 and max=100 : \"))\n",
    "    while '-' not in user_range:\n",
    "        print(\"Use '-' between the ranges\")\n",
    "        user_range = str(input(\"Choose  a range of numbers e.g 0-75 and max=100 : \"))\n",
    "    splitted_range = user_range.split('-')\n",
    "    while int(splitted_range[0]) > int(splitted_range[1]) or int(splitted_range[1]) > 100:\n",
    "        print(\"Error Check your Range of Numbers.\")\n",
    "        user_range = str(input(\"Choose  a range of numbers e.g 0-75 and max=100 : \"))\n",
    "        while '-' not in user_range:\n",
    "            user_range = str(input(\"Choose  a range of numbers e.g 0-75 and max=100 : \"))\n",
    "        splitted_range = user_range.split('-')\n",
    "    return user_range\n",
    "print(\"Note use of letters and strings will crash the program.\")\n",
    "range = get_input()\n",
    "user_guess = input(\"Guess the lucky number : \")\n",
    "print(range)\n",
    "print(user_guess)"
   ]
  },
  {
   "cell_type": "markdown",
   "metadata": {},
   "source": [
    "    After input"
   ]
  },
  {
   "cell_type": "code",
   "execution_count": null,
   "metadata": {},
   "outputs": [],
   "source": [
    "x = \"10-20\"\n",
    "split = x.split(\"-\")\n",
    "a , b = int(split[0]) , int(split[1])\n",
    "list_ranges = []"
   ]
  },
  {
   "cell_type": "markdown",
   "metadata": {},
   "source": [
    "check this 1"
   ]
  },
  {
   "cell_type": "code",
   "execution_count": 1,
   "metadata": {},
   "outputs": [
    {
     "name": "stdout",
     "output_type": "stream",
     "text": [
      "[0, 0, 0, 0, 0, 0, 0, 0, 0, 10, 0]\n",
      "[9]\n",
      "0\n"
     ]
    }
   ],
   "source": [
    "import random as rnd\n",
    "x = \"10-20\"\n",
    "split = x.split(\"-\")\n",
    "a , b = int(split[0]) , int(split[1])\n",
    "init_range = b-a +1\n",
    "list_ranges = []\n",
    "for x in range(0, init_range):\n",
    "    list_ranges.append(0)\n",
    "inserted_indexes = []\n",
    "for x in range(a , init_range):\n",
    "    new_value = 0\n",
    "    value = rnd.randrange(0,init_range - 1)\n",
    "    if value not in inserted_indexes:\n",
    "        list_ranges[value] = x\n",
    "        inserted_indexes.append(value)\n",
    "    else:\n",
    "        while value in inserted_indexes:\n",
    "           value = rnd.randrange(0,init_range-1)\n",
    "           if value not in inserted_indexes:\n",
    "               new_value = value\n",
    "               break\n",
    "        list_ranges[new_value] = x\n",
    "        inserted_indexes.append(new_value)\n",
    "set_ranges = set(list_ranges)\n",
    "print(list_ranges)\n",
    "print(inserted_indexes)\n",
    "lucky = set_ranges.pop()\n",
    "print(lucky)\n"
   ]
  },
  {
   "cell_type": "markdown",
   "metadata": {},
   "source": [
    "check this 2"
   ]
  },
  {
   "cell_type": "code",
   "execution_count": null,
   "metadata": {},
   "outputs": [],
   "source": [
    "import random as rnd\n",
    "x = \"10-20\"\n",
    "split = x.split(\"-\")\n",
    "a , b = int(split[0]) , int(split[1])\n",
    "list_ranges = []\n",
    "inserted_indexes = []\n",
    "for x in range(a , b + 1):\n",
    "    new_value = 0\n",
    "    value = rnd.randrange(0,b-a)\n",
    "    if value not in inserted_indexes:\n",
    "        list_ranges.insert(value,x)\n",
    "        inserted_indexes.append(value)\n",
    "    '''else:\n",
    "        while value in inserted_indexes:\n",
    "           value = rnd.randrange(0,b-a)\n",
    "           if value not in inserted_indexes:\n",
    "               new_value = value\n",
    "               break\n",
    "        list_ranges.insert(new_value,x)\n",
    "        inserted_indexes.append(new_value)'''\n",
    "set_ranges = set(list_ranges)\n",
    "print(set)\n",
    "lucky = set_ranges.pop()\n",
    "print(lucky)\n"
   ]
  },
  {
   "cell_type": "markdown",
   "metadata": {},
   "source": [
    "using random module to calculate the lucky number"
   ]
  },
  {
   "cell_type": "code",
   "execution_count": null,
   "metadata": {},
   "outputs": [],
   "source": [
    "import random as rnd\n",
    "x = \"10-20\"\n",
    "splitted_string = x.split('-')\n",
    "a , b = int(splitted_string[0]), int(splitted_string[1])\n",
    "random_result = rnd.randint(a,b)\n",
    "print(random_result)"
   ]
  },
  {
   "cell_type": "markdown",
   "metadata": {},
   "source": [
    "    Play again module"
   ]
  },
  {
   "cell_type": "code",
   "execution_count": null,
   "metadata": {},
   "outputs": [],
   "source": [
    "import random as rnd\n",
    "def get_input():\n",
    "    user_range = str(input(\"Choose  a range of numbers e.g 0-75 and max=100 : \"))\n",
    "    while '-' not in user_range:\n",
    "        print(\"Use '-' between the ranges\")\n",
    "        user_range = str(input(\"Choose  a range of numbers e.g 0-75 and max=100 : \"))\n",
    "    splitted_range = user_range.split('-')\n",
    "    while int(splitted_range[0]) > int(splitted_range[1]) or int(splitted_range[1]) > 100:\n",
    "        print(\"Error Check your Range of Numbers.\")\n",
    "        user_range = str(input(\"Choose  a range of numbers e.g 0-75 and max=100 : \"))\n",
    "        while '-' not in user_range:\n",
    "            user_range = str(input(\"Choose  a range of numbers e.g 0-75 and max=100 : \"))\n",
    "        splitted_range = user_range.split('-')\n",
    "    return user_range\n",
    "def playagain(winner_choice,start_range,end_range):\n",
    "    value = False\n",
    "    user_guess = int(input(\"Guess the lucky number : \"))\n",
    "    while (user_guess < start_range or user_guess > end_range):\n",
    "        print(\"Choose appropriate number\")\n",
    "        user_guess = int(input(\"Guess the lucky number : \"))\n",
    "    if (user_guess == winner_choice):\n",
    "        print(\"You have won the game\")\n",
    "        value = True\n",
    "    else:\n",
    "        print(\"you have lost\")\n",
    "    return value\n",
    "print(\"Note use of letters and strings will crash the program.\")\n",
    "value_range = get_input()\n",
    "x = value_range\n",
    "splitted_string = x.split('-')\n",
    "a , b = int(splitted_string[0]), int(splitted_string[1])\n",
    "random_result = rnd.randint(a,b)\n",
    "user_guess = int(input(\"Guess the lucky number : \"))\n",
    "while (user_guess < a or user_guess > b):\n",
    "    print(\"Choose appropriate number\")\n",
    "    user_guess = int(input(\"Guess the lucky number : \"))\n",
    "if (random_result == user_guess):\n",
    "    print(\"You have won the game\")\n",
    "else:\n",
    "    print(\"you have lost\")\n",
    "    choice = str(input('Do you want to play agin (y)/(n) :'))\n",
    "    while choice.isnumeric():\n",
    "        print(\"Use letters\")\n",
    "        choice = str(input('Do you want to play agin (y)/(n)'))\n",
    "    if choice.lower() == 'y':\n",
    "        print(\"You have three trials remaining\")\n",
    "        for x in range(3):\n",
    "            user_result = playagain(random_result,a,b)\n",
    "            if user_result:\n",
    "                break\n",
    "    elif choice.lower() == 'n':               \n",
    "        exit()"
   ]
  },
  {
   "cell_type": "markdown",
   "metadata": {},
   "source": [
    "    New game module"
   ]
  },
  {
   "cell_type": "code",
   "execution_count": null,
   "metadata": {},
   "outputs": [],
   "source": [
    "def newGame():\n",
    "    #Reuse the previous Functions\n",
    "    value_range = get_input()\n",
    "    x = value_range\n",
    "    splitted_string = x.split('-')\n",
    "    a , b = int(splitted_string[0]), int(splitted_string[1])\n",
    "    random_result = rnd.randint(a,b)\n",
    "    user_guess = int(input(\"Guess the lucky number : \"))\n",
    "    while (user_guess < a or user_guess > b):\n",
    "        print(\"Choose appropriate number\")\n",
    "        user_guess = int(input(\"Guess the lucky number : \"))\n",
    "    if (random_result == user_guess):\n",
    "        print(\"You have won the game\")\n",
    "    else:\n",
    "        print(\"you have lost\")\n",
    "        choice = str(input('Do you want to play agin (y)/(n) :'))\n",
    "        while choice.isnumeric():\n",
    "            print(\"Use letters\")\n",
    "            choice = str(input('Do you want to play agin (y)/(n)'))\n",
    "        if choice.lower() == 'y':\n",
    "            print(\"You have three trials remaining\")\n",
    "            for x in range(3):\n",
    "                user_result = playagain(random_result,a,b)\n",
    "                if user_result:\n",
    "                    break\n",
    "        elif choice.lower() == 'n':               \n",
    "            new_quit = str(input(\"Do you want to play a new game? (y/n)\"))\n",
    "            while new_quit.isnumeric():\n",
    "                print(\"Use letters defined below\")\n",
    "            new_quit = str(input(\"Do you want to play new game? (y/n)\"))\n",
    "            if new_quit == 'y':\n",
    "                newGame()\n",
    "            elif new_quit == 'n':\n",
    "                exit()    \n"
   ]
  },
  {
   "cell_type": "markdown",
   "metadata": {},
   "source": [
    "    BASE ENGINE "
   ]
  },
  {
   "cell_type": "code",
   "execution_count": null,
   "metadata": {},
   "outputs": [],
   "source": [
    "import random as rnd\n",
    "def get_input():\n",
    "    user_range = str(input(\"Choose  a range of numbers e.g 0-75 and max=100 : \"))\n",
    "    while '-' not in user_range:\n",
    "        print(\"Use '-' between the ranges\")\n",
    "        user_range = str(input(\"Choose  a range of numbers e.g 0-75 and max=100 : \"))\n",
    "    splitted_range = user_range.split('-')\n",
    "    while not splitted_range[0].isnumeric() or not splitted_range[1].isnumeric():\n",
    "        print(\"Forbidden Entry do not use letters or strings.Try again\")\n",
    "        user_range = str(input(\"Choose  a range of numbers e.g 0-75 and max=100 : \"))\n",
    "        while '-' not in user_range:\n",
    "           print(\"Use '-' between the ranges\") \n",
    "           user_range = str(input(\"Choose  a range of numbers e.g 0-75 and max=100 : \"))\n",
    "        splitted_range = user_range.split('-')\n",
    "    while int(splitted_range[0]) > int(splitted_range[1]) or int(splitted_range[1]) > 100:\n",
    "        print(\"Error Check your Range of Numbers.\")\n",
    "        user_range = str(input(\"Choose  a range of numbers e.g 0-75 and max=100 : \"))\n",
    "        while '-' not in user_range:\n",
    "            user_range = str(input(\"Choose  a range of numbers e.g 0-75 and max=100 : \"))\n",
    "        splitted_range = user_range.split('-')\n",
    "    return user_range\n",
    "def playagain(winner_choice,start_range,end_range):\n",
    "    value = False\n",
    "    user_guess = int(input(\"Guess the lucky number : \"))\n",
    "    while (user_guess < start_range or user_guess > end_range):\n",
    "        print(\"Choose appropriate number\")\n",
    "        user_guess = int(input(\"Guess the lucky number : \"))\n",
    "    if (user_guess == winner_choice):\n",
    "        print(\"You have won the game\")\n",
    "        value = True\n",
    "    else:\n",
    "        print(\"you have lost\")\n",
    "    return value\n",
    "def newGame():\n",
    "    #Reuse the previous Functions\n",
    "    value_range = get_input()\n",
    "    x = value_range\n",
    "    splitted_string = x.split('-')\n",
    "    a , b = int(splitted_string[0]), int(splitted_string[1])\n",
    "    random_result = rnd.randint(a,b)\n",
    "    user_guess = int(input(\"Guess the lucky number : \"))\n",
    "    while (user_guess < a or user_guess > b):\n",
    "        print(\"Choose appropriate number\")\n",
    "        user_guess = int(input(\"Guess the lucky number : \"))\n",
    "    if (random_result == user_guess):\n",
    "        print(\"You have won the game\")\n",
    "        cont_quit_new_won = str(input(\"Do you want to continue playing or quit the game(y/n)?\"))\n",
    "        while cont_quit_new_won.lower() not in ('y','n'):\n",
    "            print(\"Use the letters defined above\")\n",
    "            cont_quit_new_won = str(input(\"Do you want to continue playing or quit the game(y/n)?\"))\n",
    "        if cont_quit_new_won.lower() == 'y':\n",
    "            newGame()\n",
    "        elif cont_quit_new_won.lower() == 'n':\n",
    "            exit()\n",
    "    else:\n",
    "        print(\"you have lost\")\n",
    "        choice = str(input('Do you want to play agin (y)/(n) :'))\n",
    "        while choice.lower() not in ('y', 'n'):\n",
    "            print(\"Use letters defined above\")\n",
    "            choice = str(input('Do you want to play agin (y)/(n)'))\n",
    "        if choice.lower() == 'y':\n",
    "            print(\"You have three trials remaining\")\n",
    "            for x in range(3):\n",
    "                user_result = playagain(random_result,a,b)\n",
    "                if user_result:\n",
    "                    cont_quit = str(input(\"Do you want to continue playing or quit the game(y/n)?\"))\n",
    "                    while cont_quit.lower() not in ('y', 'n'):\n",
    "                        print(\"Use the letters defined above\")\n",
    "                        cont_quit = str(input(\"Do you want to continue playing or quit the game(y/n)?\"))\n",
    "                    if cont_quit.lower() == 'y':\n",
    "                        newGame()\n",
    "                    elif cont_quit.lower() == 'n':\n",
    "                        exit()\n",
    "        elif choice.lower() == 'n':               \n",
    "            new_quit = str(input(\"Do you want to play a new game? (y/n)\"))\n",
    "            while new_quit.lower() not in ('y','n'):\n",
    "                print(\"Use letters defined below\")\n",
    "                new_quit = str(input(\"Do you want to play new game? (y/n)\"))\n",
    "            if new_quit.lower() == 'y':\n",
    "                newGame()\n",
    "            elif new_quit.lower() == 'n':\n",
    "                exit()    \n",
    "# Start of the execution of the program.\n",
    "value_range = get_input()\n",
    "x = value_range\n",
    "splitted_string = x.split('-')\n",
    "a , b = int(splitted_string[0]), int(splitted_string[1])\n",
    "random_result = rnd.randint(a,b)\n",
    "user_guess = int(input(\"Guess the lucky number : \"))\n",
    "while (user_guess < a or user_guess > b):\n",
    "    print(\"Choose appropriate number\")\n",
    "    user_guess = int(input(\"Guess the lucky number : \"))\n",
    "if (random_result == user_guess):\n",
    "    print(\"You have won the game\")\n",
    "    cont_quit_won = str(input(\"Do you want to continue playing or quit the game(y/n)?\"))\n",
    "    while cont_quit_won.lower() not in ('y','n'):\n",
    "        print(\"Use letters defined above\")\n",
    "        cont_quit_won = str(input(\"Do you want to continue playing or quit the game(y/n)?\"))\n",
    "    if cont_quit_won.lower() == 'y':\n",
    "        newGame()\n",
    "    elif cont_quit_won.lower() == 'n':\n",
    "        exit()\n",
    "else:\n",
    "    print(\"you have lost\")\n",
    "    choice = str(input('Do you want to play again (y)/(n) : '))\n",
    "    while choice.lower() not in ('y', 'n'):\n",
    "        print(\"Use letters defined above\")\n",
    "        choice = str(input('Do you want to play again (y)/(n) : '))\n",
    "    if choice.lower() == 'y':\n",
    "        print(\"You have three trials remaining\")\n",
    "        for x in range(3):\n",
    "            user_result = playagain(random_result,a,b)\n",
    "            if user_result:\n",
    "                cont_quit = str(input(\"Do you want to continue playing or quit the game(y/n)?\"))\n",
    "                while cont_quit.lower() not in ('y', 'n'):\n",
    "                    print(\"Use letters defined below\")\n",
    "                    cont_quit = str(input(\"Do you want to continue playing or quit the game(y/n)?\"))\n",
    "                if cont_quit.lower() == 'y':\n",
    "                    newGame()\n",
    "                elif cont_quit.lower() == 'n':\n",
    "                    exit()\n",
    "            elif x == 2 and user_result == False:\n",
    "                play_again_new_Game=str(input(\"Do you want to play a new game? (y/n)?\"))\n",
    "                while play_again_new_Game.lower() not in ('y', 'n'):\n",
    "                    print(\"Use letters defined below\")\n",
    "                    play_again_new_Game=str(input(\"Do you want to play a new game? (y/n)?\"))\n",
    "                if play_again_new_Game.lower() == 'y':\n",
    "                    newGame()\n",
    "                elif play_again_new_Game.lower() == 'n':\n",
    "                    exit()\n",
    "    elif choice.lower() == 'n':               \n",
    "        new_quit = str(input(\"Do you want to play a new game? (y/n)\"))\n",
    "        while new_quit.lower() not in('y','n'):\n",
    "          print(\"Use letters defined below\")\n",
    "          new_quit = str(input(\"Do you want to play new game? (y/n)\"))\n",
    "        if new_quit.lower() == 'y':\n",
    "          newGame()\n",
    "        elif new_quit.lower() == 'n':\n",
    "          exit()\n",
    "        "
   ]
  }
 ],
 "metadata": {
  "kernelspec": {
   "display_name": "Python 3.10.5 64-bit",
   "language": "python",
   "name": "python3"
  },
  "language_info": {
   "codemirror_mode": {
    "name": "ipython",
    "version": 3
   },
   "file_extension": ".py",
   "mimetype": "text/x-python",
   "name": "python",
   "nbconvert_exporter": "python",
   "pygments_lexer": "ipython3",
   "version": "3.10.5"
  },
  "orig_nbformat": 4,
  "vscode": {
   "interpreter": {
    "hash": "443ecfb5abef33b420d99f64215d83b589c2e45c5d5d43ca9592b697e0b1420e"
   }
  }
 },
 "nbformat": 4,
 "nbformat_minor": 2
}
